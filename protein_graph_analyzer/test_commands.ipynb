{
 "cells": [
  {
   "cell_type": "code",
   "execution_count": 1,
   "metadata": {},
   "outputs": [],
   "source": [
    "import waterclusters as wc\n",
    "import pymol as pm\n",
    "import Bio.PDB\n",
    "import Bio\n",
    "from Bio import SeqIO\n",
    "from Bio import pairwise2\n",
    "import helperfunctions as _hf\n",
    "\n",
    "\n",
    "from Bio.PDB.PDBParser import PDBParser\n",
    "from Bio.PDB.Polypeptide import PPBuilder\n",
    "%load_ext autoreload\n",
    "%autoreload 2"
   ]
  },
  {
   "cell_type": "code",
   "execution_count": null,
   "metadata": {},
   "outputs": [],
   "source": [
    "amino_d = {'CYS': 'C', 'ASP': 'D', 'SER': 'S', 'GLN': 'Q', 'LYS': 'K',\n",
    "     'ILE': 'I', 'PRO': 'P', 'THR': 'T', 'PHE': 'F', 'ASN': 'N', \n",
    "     'GLY': 'G', 'HIS': 'H', 'LEU': 'L', 'ARG': 'R', 'TRP': 'W', \n",
    "     'ALA': 'A', 'VAL':'V', 'GLU': 'E', 'TYR': 'Y', 'MET': 'M'}"
   ]
  },
  {
   "cell_type": "code",
   "execution_count": null,
   "metadata": {},
   "outputs": [],
   "source": [
    "amino_1l = {'C' :'CYS', 'D':'ASP', 'S':'SER', 'Q':'GLN', 'K':'LYS', \n",
    "            'I':'ILE', 'P':'PRO', 'T':'THR', 'F': 'PHE', 'N': 'ASN', \n",
    "     'G': 'GLY', 'H': 'HIS', 'L': 'LEU', 'R': 'ARG', 'W': 'TRP', \n",
    "     'A': 'ALA', 'V': 'VAL', 'E': 'GLU', 'Y': 'TYR', 'M': 'MET'}"
   ]
  },
  {
   "cell_type": "code",
   "execution_count": 2,
   "metadata": {},
   "outputs": [
    {
     "name": "stdout",
     "output_type": "stream",
     "text": [
      "../workfolder/test_files_SARS/\n"
     ]
    }
   ],
   "source": [
    "pdb_root_folder = '../workfolder/test_files_GPCR/'\n",
    "# pdb_root_folder = '../workfolder/test_files_GlplG/'\n",
    "pdb_root_folder = '../workfolder/test_files_SARS/'\n",
    "target_folder = pdb_root_folder\n",
    "\n",
    "w = wc.WaterClusters(pdb_root_folder)\n",
    "file_list = w.file_list"
   ]
  },
  {
   "cell_type": "code",
   "execution_count": 3,
   "metadata": {},
   "outputs": [
    {
     "data": {
      "text/plain": [
       "'../workfolder/test_files_SARS/'"
      ]
     },
     "execution_count": 3,
     "metadata": {},
     "output_type": "execute_result"
    }
   ],
   "source": [
    "target_folder"
   ]
  },
  {
   "cell_type": "code",
   "execution_count": 4,
   "metadata": {},
   "outputs": [
    {
     "name": "stdout",
     "output_type": "stream",
     "text": [
      "0\n",
      "0\n",
      "0\n",
      "0\n",
      "0\n"
     ]
    }
   ],
   "source": [
    "w.number_of_waters_per_structure()"
   ]
  },
  {
   "cell_type": "code",
   "execution_count": 5,
   "metadata": {},
   "outputs": [],
   "source": [
    "def get_sequence(pdb_file):\n",
    "    sequence = []\n",
    "    parser = PDBParser(QUIET=True)\n",
    "    structure = parser.get_structure('model', pdb_file)\n",
    "    ppb = PPBuilder()\n",
    "    for pp in ppb.build_peptides(structure):\n",
    "        sequence.append(pp.get_sequence())\n",
    "    seq = ''\n",
    "    for s in sequence:\n",
    "        seq += s\n",
    "    return seq"
   ]
  },
  {
   "cell_type": "code",
   "execution_count": 6,
   "metadata": {},
   "outputs": [],
   "source": [
    "def align_sequence(pdb_ref, pdb_move, threshold=0.75):\n",
    "    ref_sequence = get_sequence(pdb_ref)\n",
    "    move_sequence = get_sequence(pdb_move)\n",
    "    alignments = pairwise2.align.globalxx(ref_sequence, move_sequence)\n",
    "    \n",
    "    best_score = 0\n",
    "    best_i = 0\n",
    "    for i, alignment in enumerate(alignments):\n",
    "        if best_score <= alignment.score:\n",
    "            best_score = alignment.score\n",
    "            best_i = i\n",
    "\n",
    "    best_alginment = alignments[best_i]\n",
    "    assert len(best_alginment.seqA) == len(best_alginment.seqB), 'Aligned sequences have different lenght'\n",
    "    assert best_alginment.score / len(alignments[best_i].seqA) >= threshold, 'Sequences of '+pdb_move+' differ more than the threshold value ('+str(threshold*100)+'%) from the reference structure'\n",
    "    assert best_alginment.score / len(alignments[best_i].seqB) >= threshold, 'Sequences of '+pdb_move+' differ more than the threshold value ('+str(threshold*100)+'%) from the reference structure'\n",
    "\n",
    "    return best_alginment.seqA, best_alginment.seqB"
   ]
  },
  {
   "cell_type": "code",
   "execution_count": 7,
   "metadata": {},
   "outputs": [
    {
     "name": "stdout",
     "output_type": "stream",
     "text": [
      "6m0jA.pdb\n",
      "6m17B.pdb\n",
      "6vw1A.pdb\n",
      "6vw1B.pdb\n"
     ]
    }
   ],
   "source": [
    "pdb_ref = file_list[0]\n",
    "for file in file_list[1:]:\n",
    "    pdb_move = file\n",
    "    print(pdb_move)\n",
    "    ref_aligned, move_aligned = align_sequence(pdb_root_folder+pdb_ref,\n",
    "                                               pdb_root_folder+pdb_move,\n",
    "                                              threshold=0.75)\n",
    "    _hf.superimpose_aligned_atoms(ref_aligned, pdb_root_folder+pdb_ref,\n",
    "                                  move_aligned, pdb_root_folder+pdb_move,\n",
    "                                  file_name=target_folder+pdb_move)"
   ]
  },
  {
   "cell_type": "code",
   "execution_count": null,
   "metadata": {},
   "outputs": [],
   "source": []
  },
  {
   "cell_type": "markdown",
   "metadata": {},
   "source": [
    "* all sequence has to have a minimum threshold similarity min 75%, but can be set\n",
    "* if not than meaningful error message that some of them is not compared to the reference file\n",
    "* set reference file as the first one in the list but can be set manulaly"
   ]
  },
  {
   "cell_type": "code",
   "execution_count": null,
   "metadata": {},
   "outputs": [],
   "source": []
  },
  {
   "cell_type": "code",
   "execution_count": null,
   "metadata": {},
   "outputs": [],
   "source": []
  },
  {
   "cell_type": "code",
   "execution_count": null,
   "metadata": {},
   "outputs": [],
   "source": []
  },
  {
   "cell_type": "code",
   "execution_count": null,
   "metadata": {},
   "outputs": [],
   "source": []
  },
  {
   "cell_type": "code",
   "execution_count": null,
   "metadata": {},
   "outputs": [],
   "source": []
  },
  {
   "cell_type": "code",
   "execution_count": null,
   "metadata": {},
   "outputs": [],
   "source": []
  }
 ],
 "metadata": {
  "kernelspec": {
   "display_name": "Python 3",
   "language": "python",
   "name": "python3"
  },
  "language_info": {
   "codemirror_mode": {
    "name": "ipython",
    "version": 3
   },
   "file_extension": ".py",
   "mimetype": "text/x-python",
   "name": "python",
   "nbconvert_exporter": "python",
   "pygments_lexer": "ipython3",
   "version": "3.7.3"
  }
 },
 "nbformat": 4,
 "nbformat_minor": 2
}
