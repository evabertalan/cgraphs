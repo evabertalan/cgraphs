{
 "cells": [
  {
   "cell_type": "code",
   "execution_count": null,
   "metadata": {},
   "outputs": [],
   "source": [
    "import os\n",
    "import numpy as np"
   ]
  },
  {
   "cell_type": "code",
   "execution_count": null,
   "metadata": {},
   "outputs": [],
   "source": [
    "amino_d = {'C': 'CYS', 'D': 'ASP', 'S': 'SER', 'Q': 'GLN', 'K': 'LYS', 'I': 'ILE',\n",
    "           'P': 'PRO', 'T': 'THR', 'F': 'PHE', 'N': 'ASN', 'G': 'GLY', 'H': 'HIS',\n",
    "           'L': 'LEU', 'R': 'ARG', 'W': 'TRP', 'A': 'ALA', 'V': 'VAL', 'E': 'GLU',\n",
    "           'Y': 'TYR', 'M': 'MET'}"
   ]
  },
  {
   "cell_type": "code",
   "execution_count": null,
   "metadata": {},
   "outputs": [],
   "source": [
    "# path to the input file:\n",
    "INPUT_FILE_PATH = '/PATH/TO/input_file/input_file.txt'\n",
    "\n",
    "# format of the input file, should be 'txt', 'text'\n",
    "filename, file_extension = os.path.splitext(INPUT_FILE_PATH)\n",
    "print(file_extension)"
   ]
  },
  {
   "cell_type": "code",
   "execution_count": null,
   "metadata": {},
   "outputs": [],
   "source": [
    "if file_extension in('.txt', '.text'):\n",
    "    input_data = np.loadtxt(INPUT_FILE_PATH, dtype=str)\n",
    "else:\n",
    "    print('Input file should be .txt or .csv')"
   ]
  },
  {
   "cell_type": "code",
   "execution_count": null,
   "metadata": {},
   "outputs": [],
   "source": [
    "print(input_data)"
   ]
  },
  {
   "cell_type": "code",
   "execution_count": null,
   "metadata": {},
   "outputs": [],
   "source": [
    "# number of lines to skip from the beginning of the input file; e.g: SKIP_LINES = 1\n",
    "SKIP_LINES = 1\n",
    "# True if amino acid residue name is given by 1 letter in the input file; e.g: ONE_LETTER_INPUT = True\n",
    "ONE_LETTER_INPUT = True\n",
    "# If chain or seg_id is in a differnt form than in pdb, options to rewirite:\n",
    "# - to any letter of the seg_id, index start with 0; e.g: REWRITE_SEG_ID = -1\n",
    "# - to a fixed string, e.g: REWRITE_SEG_ID = \"A\"\n",
    "# - to keep the orignal, use: REWRITE_SEG_ID = False\n",
    "REWRITE_SEG_ID = -1\n",
    "\n",
    "# Define column mapping to input file, numbering starts wiht 0\n",
    "RES_NAME_col_index = 4\n",
    "RES_ID_col_index = 2\n",
    "SEG_ID_col_index = 0\n",
    "VALUE_col_index = 3"
   ]
  },
  {
   "cell_type": "code",
   "execution_count": null,
   "metadata": {},
   "outputs": [],
   "source": [
    "if REWRITE_SEG_ID:\n",
    "    if type(REWRITE_SEG_ID) is str:\n",
    "        seg_id = [REWRITE_SEG_ID for seg in input_data[SKIP_LINES:, SEG_ID_col_index]]\n",
    "    elif type(REWRITE_SEG_ID) is int:\n",
    "        seg_id = [seg[REWRITE_SEG_ID] for seg in input_data[SKIP_LINES:, SEG_ID_col_index]]\n",
    "    else: 'Unsupported type'\n",
    "else:\n",
    "    seg_id = input_data[SKIP_LINES:, SEG_ID_col_index]"
   ]
  },
  {
   "cell_type": "code",
   "execution_count": null,
   "metadata": {},
   "outputs": [],
   "source": [
    "res_name = [amino_d[res] for res in input_data[SKIP_LINES:, RES_NAME_col_index]] if ONE_LETTER_INPUT else input_data[SKIP_LINES:, RES_NAME_col_index]"
   ]
  },
  {
   "cell_type": "code",
   "execution_count": null,
   "metadata": {},
   "outputs": [],
   "source": [
    "#output column order will be: ['res_name', 'res_id', 'seg_name', 'value']\n",
    "output_data = np.array([res_name,input_data[SKIP_LINES:, RES_ID_col_index], seg_id, input_data[SKIP_LINES:, VALUE_col_index] ])"
   ]
  },
  {
   "cell_type": "code",
   "execution_count": null,
   "metadata": {},
   "outputs": [],
   "source": [
    "PDB_ID = '6vxx'\n",
    "OUTPUT_PATH = f'/PATH/TO/OUTPUT/PDB_FOLDER/{PDB_ID}_data.txt'\n",
    "np.savetxt(OUTPUT_PATH, output_data.T, fmt='%s')"
   ]
  },
  {
   "cell_type": "code",
   "execution_count": null,
   "metadata": {},
   "outputs": [],
   "source": []
  },
  {
   "cell_type": "code",
   "execution_count": null,
   "metadata": {},
   "outputs": [],
   "source": []
  },
  {
   "cell_type": "code",
   "execution_count": null,
   "metadata": {},
   "outputs": [],
   "source": []
  }
 ],
 "metadata": {
  "kernelspec": {
   "display_name": "Python 3",
   "language": "python",
   "name": "python3"
  },
  "language_info": {
   "codemirror_mode": {
    "name": "ipython",
    "version": 3
   },
   "file_extension": ".py",
   "mimetype": "text/x-python",
   "name": "python",
   "nbconvert_exporter": "python",
   "pygments_lexer": "ipython3",
   "version": "3.7.3"
  },
  "latex_envs": {
   "LaTeX_envs_menu_present": true,
   "autoclose": false,
   "autocomplete": true,
   "bibliofile": "biblio.bib",
   "cite_by": "apalike",
   "current_citInitial": 1,
   "eqLabelWithNumbers": true,
   "eqNumInitial": 1,
   "hotkeys": {
    "equation": "Ctrl-E",
    "itemize": "Ctrl-I"
   },
   "labels_anchors": false,
   "latex_user_defs": false,
   "report_style_numbering": false,
   "user_envs_cfg": false
  }
 },
 "nbformat": 4,
 "nbformat_minor": 4
}
