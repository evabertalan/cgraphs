{
 "cells": [
  {
   "cell_type": "code",
   "execution_count": 1,
   "metadata": {},
   "outputs": [],
   "source": [
    "%load_ext autoreload\n",
    "%autoreload 2\n",
    "import os\n",
    "import pdb_to_bw as pb"
   ]
  },
  {
   "cell_type": "markdown",
   "metadata": {},
   "source": [
    "# Renumber PDB file with BW numbering:\n",
    "Example notebook to present how to use the PDB renumbering script in order to creater conserved graphs of different GPCR families\n",
    "* The Ballesteros-Weinstein scheme is a genric GPCR numbering system, which assigns each amino acid residue a number that indicates the transmembrane (TM) helix, and a number that indicates the location relative to most conserved amino acid residue of that TM"
   ]
  },
  {
   "cell_type": "markdown",
   "metadata": {},
   "source": [
    "### 1. Set parameters\n",
    "* **folder_with_pdb_files:** folder where the PDB files are located, files in which the amino acid residues are aimed to be renumbered according to the BW scheme \n",
    "* **target_folder:** folder where the output PDB files are going to be saved"
   ]
  },
  {
   "cell_type": "code",
   "execution_count": 2,
   "metadata": {},
   "outputs": [],
   "source": [
    "folder_with_pdb_files = '/Users/evabertalan/Documents/projects/BJP_paper/struct/comp_1F88_7zbc/with_added_water/'\n",
    "target_folder = f'{folder_with_pdb_files}/bw/'\n"
   ]
  },
  {
   "cell_type": "markdown",
   "metadata": {},
   "source": [
    "### 2. Create list from the input files:\n",
    "* **PDB_FILEs:** PDB files retrieved from the __folder_with_pdb_files__ folder\n",
    "* **LIST_OF_PDB_IDs:** PDB ID retrieved from the PDB file, if the file not conventionnally named e.g.:6b73.pdb, please input the PDB IDs manually in the same order as the PDB files are read in the PDB_FILEs list"
   ]
  },
  {
   "cell_type": "code",
   "execution_count": 3,
   "metadata": {},
   "outputs": [],
   "source": [
    "PDB_FILEs = [folder_with_pdb_files+'/'+file for file in os.listdir(folder_with_pdb_files) if file.endswith('.pdb')]\n",
    "LIST_OF_PDB_IDs = [file_path.split('/')[-1].split('.pdb')[0] for file_path in PDB_FILEs]"
   ]
  },
  {
   "cell_type": "code",
   "execution_count": 4,
   "metadata": {},
   "outputs": [
    {
     "data": {
      "text/plain": [
       "1"
      ]
     },
     "execution_count": 4,
     "metadata": {},
     "output_type": "execute_result"
    }
   ],
   "source": [
    "len(LIST_OF_PDB_IDs)"
   ]
  },
  {
   "cell_type": "markdown",
   "metadata": {},
   "source": [
    "### 3. Call the script in a loop:"
   ]
  },
  {
   "cell_type": "code",
   "execution_count": null,
   "metadata": {},
   "outputs": [],
   "source": [
    "for i in range(len(PDB_FILEs)):\n",
    "    print(LIST_OF_PDB_IDs[i])\n",
    "    pb.renumber_pdb_to_bw(LIST_OF_PDB_IDs[i], PDB_FILEs[i], target_folder)"
   ]
  },
  {
   "cell_type": "markdown",
   "metadata": {},
   "source": [
    "# Renumber PDB file with generic GPCR numbering:\n",
    "Data will be retrieved from the GPCRdb assign_generic_numbers endpoint. The PDB file is sent to the server and an other PDB file is returned, which contains the generic numbers in the row of each residue.<br>\n",
    "The resulted PDB file is written in the PDB folder."
   ]
  },
  {
   "cell_type": "code",
   "execution_count": 5,
   "metadata": {
    "scrolled": true
   },
   "outputs": [
    {
     "name": "stdout",
     "output_type": "stream",
     "text": [
      "1F88_A_OPSD_HW\n",
      "  % Total    % Received % Xferd  Average Speed   Time    Time     Time  Current\n",
      "                                 Dload  Upload   Total   Spent    Left  Speed\n",
      "100  663k  100  223k  100  439k  18538  36480  0:00:12  0:00:12 --:--:-- 56376\n"
     ]
    }
   ],
   "source": [
    "for i in range(len(PDB_FILEs)):\n",
    "    pdb_file = PDB_FILEs[i]\n",
    "    pdb_id = LIST_OF_PDB_IDs[i]\n",
    "    print(pdb_id)\n",
    "    result_file = f'{pdb_id}_generic.pdb'\n",
    "\n",
    "    ! (cd $target_folder && curl -X POST -F \"pdb_file=@$pdb_file\" https://gpcrdb.org/services/structure/assign_generic_numbers -o \"$result_file\") \n",
    "    "
   ]
  },
  {
   "cell_type": "code",
   "execution_count": 6,
   "metadata": {
    "scrolled": true
   },
   "outputs": [
    {
     "name": "stdout",
     "output_type": "stream",
     "text": [
      "1F88_A_OPSD_HW\n"
     ]
    },
    {
     "name": "stderr",
     "output_type": "stream",
     "text": [
      "/Users/evabertalan/miniconda3/lib/python3.7/site-packages/MDAnalysis/topology/guessers.py:80: UserWarning: Failed to guess the mass for the following atom types: HG\n",
      "  warnings.warn(\"Failed to guess the mass for the following atom types: {}\".format(atom_type))\n",
      "/Users/evabertalan/miniconda3/lib/python3.7/site-packages/MDAnalysis/coordinates/PDB.py:722: UserWarning: Unit cell dimensions not found. CRYST1 record set to unitary values.\n",
      "  warnings.warn(\"Unit cell dimensions not found. \"\n"
     ]
    }
   ],
   "source": [
    "for i in range(len(PDB_FILEs)):\n",
    "    print(LIST_OF_PDB_IDs[i]) \n",
    "    generic_pdb = f'{target_folder}/{LIST_OF_PDB_IDs[i]}_generic.pdb'\n",
    "    pb.write_renumbered_pdb_file_from_generic_PDB(LIST_OF_PDB_IDs[i], generic_pdb, target_folder)"
   ]
  },
  {
   "cell_type": "code",
   "execution_count": null,
   "metadata": {},
   "outputs": [],
   "source": []
  }
 ],
 "metadata": {
  "kernelspec": {
   "display_name": "Python 3",
   "language": "python",
   "name": "python3"
  },
  "language_info": {
   "codemirror_mode": {
    "name": "ipython",
    "version": 3
   },
   "file_extension": ".py",
   "mimetype": "text/x-python",
   "name": "python",
   "nbconvert_exporter": "python",
   "pygments_lexer": "ipython3",
   "version": "3.7.3"
  },
  "latex_envs": {
   "LaTeX_envs_menu_present": true,
   "autoclose": false,
   "autocomplete": true,
   "bibliofile": "biblio.bib",
   "cite_by": "apalike",
   "current_citInitial": 1,
   "eqLabelWithNumbers": true,
   "eqNumInitial": 1,
   "hotkeys": {
    "equation": "Ctrl-E",
    "itemize": "Ctrl-I"
   },
   "labels_anchors": false,
   "latex_user_defs": false,
   "report_style_numbering": false,
   "user_envs_cfg": false
  }
 },
 "nbformat": 4,
 "nbformat_minor": 4
}
