{
 "cells": [
  {
   "cell_type": "code",
   "execution_count": null,
   "metadata": {},
   "outputs": [],
   "source": [
    "import os\n",
    "import pdb_to_bw as pb"
   ]
  },
  {
   "cell_type": "markdown",
   "metadata": {},
   "source": [
    "# Renumber PDB file with BW numbering:\n",
    "Example notebook to present how to use the PDB renumbering script in order to creater conserved graphs of different GPCR families\n",
    "* The Ballesteros-Weinstein scheme is a genric GPCR numbering system, which assigns each amino acid residue a number that indicates the transmembrane (TM) helix, and a number that indicates the location relative to most conserved amino acid residue of that TM"
   ]
  },
  {
   "cell_type": "markdown",
   "metadata": {},
   "source": [
    "### 1. Set parameters\n",
    "* **folder_with_pdb_files:** folder where the PDB files are located, files in which the amino acid residues are aimed to be renumbered according to the BW scheme \n",
    "* **target_folder:** folder where the output PDB files are going to be saved"
   ]
  },
  {
   "cell_type": "code",
   "execution_count": null,
   "metadata": {},
   "outputs": [],
   "source": [
    "folder_with_pdb_files = '/Users/folder_where_all_the_pdb_files_are_lacted/'\n",
    "target_folder = '/Users/path_where_to_save_the_results_to/"
   ]
  },
  {
   "cell_type": "markdown",
   "metadata": {},
   "source": [
    "### 2. Create list from the input files:\n",
    "* **PDB_FILEs:** PDB files retrieved from the __folder_with_pdb_files__ folder\n",
    "* **LIST_OF_PDB_IDs:** PDB ID retrieved from the PDB file, if the file not conventionnally named e.g.:6b73.pdb, please input the PDB IDs manually in the same order as the PDB files are read in the PDB_FILEs list"
   ]
  },
  {
   "cell_type": "code",
   "execution_count": null,
   "metadata": {},
   "outputs": [],
   "source": [
    "PDB_FILEs = [folder_with_pdb_files+'/'+file for file in os.listdir(folder_with_pdb_files) if file.endswith('.pdb')]\n",
    "LIST_OF_PDB_IDs = [file_path.split('/')[-1].split('.pdb')[0] for file_path in PDB_FILEs]"
   ]
  },
  {
   "cell_type": "markdown",
   "metadata": {},
   "source": [
    "### 3. Call the script in a loop:"
   ]
  },
  {
   "cell_type": "code",
   "execution_count": null,
   "metadata": {},
   "outputs": [],
   "source": [
    "for i in range(len(PDB_FILEs)):\n",
    "    print(LIST_OF_PDB_IDs[i])\n",
    "    pb.renumber_pdb_to_bw(LIST_OF_PDB_IDs[i], PDB_FILEs[i], target_folder)"
   ]
  },
  {
   "cell_type": "code",
   "execution_count": null,
   "metadata": {},
   "outputs": [],
   "source": []
  }
 ],
 "metadata": {
  "kernelspec": {
   "display_name": "Python 3",
   "language": "python",
   "name": "python3"
  },
  "language_info": {
   "codemirror_mode": {
    "name": "ipython",
    "version": 3
   },
   "file_extension": ".py",
   "mimetype": "text/x-python",
   "name": "python",
   "nbconvert_exporter": "python",
   "pygments_lexer": "ipython3",
   "version": "3.7.3"
  }
 },
 "nbformat": 4,
 "nbformat_minor": 4
}
